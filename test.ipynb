{
 "cells": [
  {
   "cell_type": "code",
   "execution_count": 2,
   "metadata": {},
   "outputs": [
    {
     "name": "stdout",
     "output_type": "stream",
     "text": [
      "ING\n"
     ]
    }
   ],
   "source": [
    "#Given a string, write a Python program to extract the last three characters from the string and print them\n",
    "\n",
    "str=\"PYTHON PROGRAMMING\"\n",
    "print(str[-3 : ])\n"
   ]
  },
  {
   "cell_type": "code",
   "execution_count": 3,
   "metadata": {},
   "outputs": [
    {
     "data": {
      "text/plain": [
       "'LoLLipop'"
      ]
     },
     "execution_count": 3,
     "metadata": {},
     "output_type": "execute_result"
    }
   ],
   "source": [
    "#You are given a string. Write a Python program to replace all occurrences of the character 'l' (lowercase L) with 'L' (uppercase L) and print the modified string.\n",
    "\n",
    "st=\"lollipop\"\n",
    "st.replace('l', 'L')\n"
   ]
  },
  {
   "cell_type": "code",
   "execution_count": 4,
   "metadata": {},
   "outputs": [
    {
     "name": "stdout",
     "output_type": "stream",
     "text": [
      "657  False\n"
     ]
    }
   ],
   "source": [
    "# Write a Python program to check if a given integer is even. If the integer is even, print True; otherwise, print False.\n",
    "x=int(input(\"Enter a value:\"))\n",
    "if x%2==0:\n",
    "    print(x,' True')\n",
    "else:\n",
    "    print(x,' False')"
   ]
  },
  {
   "cell_type": "code",
   "execution_count": 5,
   "metadata": {},
   "outputs": [
    {
     "name": "stdout",
     "output_type": "stream",
     "text": [
      "345  True\n"
     ]
    }
   ],
   "source": [
    "#Write a Python program to check if a given integer is divisible by both 3 and 5. If the integer is divisible by both, print True; otherwise, print False.\n",
    "\n",
    "a=int(input(\"Enter a value:\"))\n",
    "if a%3==0 and a%5==0:\n",
    "    print(a,' True')\n",
    "else:\n",
    "    print(a,' False')"
   ]
  },
  {
   "cell_type": "code",
   "execution_count": 6,
   "metadata": {},
   "outputs": [
    {
     "name": "stdout",
     "output_type": "stream",
     "text": [
      "i hate fruits mainly orange and banana is in yellow color, i think lot of people hate banana\n"
     ]
    }
   ],
   "source": [
    "#Given a string containing multiple occurrences of the word 'banana', write a Python program to replace only the first occurrence of 'banana' with 'orange' and print the modified string.\n",
    "\n",
    "input='i hate fruits mainly banana and banana is in yellow color, i think lot of people hate banana'\n",
    "modified=input.replace('banana','orange',1)\n",
    "print(modified)\n"
   ]
  },
  {
   "cell_type": "code",
   "execution_count": 8,
   "metadata": {},
   "outputs": [
    {
     "name": "stdout",
     "output_type": "stream",
     "text": [
      "Euclidean distance: 45.35416188179427\n"
     ]
    }
   ],
   "source": [
    "#Given two tuples representing coordinates (x, y) of two points, write a Python program to calculate the Euclidean distance between them.\n",
    "\n",
    "import math\n",
    "\n",
    "def euclidean(point1, point2):\n",
    "    x1, y1 = point1\n",
    "    x2, y2 = point2\n",
    "    distance = math.sqrt((x2 - x1)**2 + (y2 - y1)**2)\n",
    "    return distance\n",
    "\n",
    "point1 = (33, 22)\n",
    "point2 = (44, 66)\n",
    "distance = euclidean(point1, point2)\n",
    "print(\"Euclidean distance:\", distance)\n"
   ]
  },
  {
   "cell_type": "code",
   "execution_count": 9,
   "metadata": {},
   "outputs": [
    {
     "name": "stdout",
     "output_type": "stream",
     "text": [
      "Common elements: {11, 33, 67, 44}\n"
     ]
    }
   ],
   "source": [
    "#Write a Python program that takes two sets as input and returns a new set containing only the elements that are common to both sets.\n",
    "\n",
    "def common_elements(set1, set2):\n",
    "    return set1.intersection(set2)\n",
    "\n",
    "set1 = {33,45,67,89,11,44,66}\n",
    "set2 = {22,44,21,67,33,67,11}\n",
    "common_set = common_elements(set1, set2)\n",
    "print(\"Common elements:\", common_set)\n"
   ]
  },
  {
   "cell_type": "code",
   "execution_count": 10,
   "metadata": {},
   "outputs": [
    {
     "name": "stdout",
     "output_type": "stream",
     "text": [
      "Students who scored the highest grade(s): ['Vyshh', 'Akhila']\n"
     ]
    }
   ],
   "source": [
    "#You are given a dictionary containing student names as keys and their corresponding grades as values. Write a Python program to find and print the names of students who scored the highest grade.\n",
    "def highest_scorers(grades_dict):\n",
    "    max_grade = max(grades_dict.values())\n",
    "    scorers = [name for name, grade in grades_dict.items() if grade == max_grade]\n",
    "    return scorers\n",
    "\n",
    "dict={'Vyshh' : 99,\n",
    "      'Triveni' : 95,\n",
    "       'Haarrii' : 85,\n",
    "       'Akhila' : 99,\n",
    "       'Suma' : 80}\n",
    "\n",
    "scorers = highest_scorers(dict)\n",
    "print(\"Students who scored the highest grade(s):\", scorers)\n"
   ]
  },
  {
   "cell_type": "code",
   "execution_count": 1,
   "metadata": {},
   "outputs": [
    {
     "name": "stdout",
     "output_type": "stream",
     "text": [
      "546  Positive num\n"
     ]
    }
   ],
   "source": [
    "#Write a Python program that takes an integer input from the user and prints whether it is positive, negative, or zero.\n",
    "\n",
    "num=int(input('Enter num:-'))\n",
    "if num == 0:\n",
    "    print(num,' Zero')\n",
    "elif num < 0:\n",
    "    print(num,\" Negative num\")\n",
    "else:\n",
    "    print(num,\" Positive num\")"
   ]
  },
  {
   "cell_type": "code",
   "execution_count": 2,
   "metadata": {},
   "outputs": [
    {
     "name": "stdout",
     "output_type": "stream",
     "text": [
      "Factorial of 5 is 120\n"
     ]
    }
   ],
   "source": [
    "#Write a Python program to calculate the factorial of a given number using a while loop.\n",
    "\n",
    "def factorial(n):\n",
    "    if n < 0:\n",
    "        return \"Negative number.\"\n",
    "    \n",
    "    result = 1\n",
    "    \n",
    "    while n > 1:\n",
    "        result *= n\n",
    "        n -= 1\n",
    "    \n",
    "    return result\n",
    "\n",
    "number = 5\n",
    "print(\"Factorial of\", number, \"is\", factorial(number))\n"
   ]
  },
  {
   "cell_type": "code",
   "execution_count": 3,
   "metadata": {},
   "outputs": [
    {
     "name": "stdout",
     "output_type": "stream",
     "text": [
      "Squares of number:- 4\n",
      "Squares of number:- 16\n",
      "Squares of number:- 36\n",
      "Squares of number:- 64\n",
      "Squares of number:- 100\n",
      "Squares of number:- 9\n",
      "Squares of number:- 25\n",
      "Squares of number:- 49\n",
      "Squares of number:- 81\n"
     ]
    }
   ],
   "source": [
    "#Write a Python program that takes a list of numbers as input and prints the square of each number using a for loop.\n",
    "\n",
    "numbers = [int(x) for x in input(\"Enter a list of numbers separated by spaces: \").split()]\n",
    "\n",
    "for num in numbers:\n",
    "    print('Squares of number:-',num ** 2)\n"
   ]
  },
  {
   "cell_type": "code",
   "execution_count": 4,
   "metadata": {},
   "outputs": [
    {
     "name": "stdout",
     "output_type": "stream",
     "text": [
      "369\n"
     ]
    }
   ],
   "source": [
    "#Write a Python function that takes two numbers as input and returns their sum.\n",
    "\n",
    "num1=int(input(\"Enter num1:-\"))\n",
    "num2=int(input(\"Enter num2:-\"))\n",
    "if(num1 <= 0 and num2 <= 0):\n",
    "    print(\"Enter valid number\")\n",
    "else:\n",
    "    sum=num1+num2\n",
    "    print(sum)"
   ]
  },
  {
   "cell_type": "code",
   "execution_count": 5,
   "metadata": {},
   "outputs": [
    {
     "name": "stdout",
     "output_type": "stream",
     "text": [
      "Maximum height: 2131\n",
      "Minimum height: 123\n"
     ]
    }
   ],
   "source": [
    "#Given a tuple containing the heights of students, write a Python program to find and print the maximum and minimum height.\n",
    "\n",
    "heights = (242,686,123,678,890,2131,564)\n",
    "\n",
    "max_height = max(heights)\n",
    "min_height = min(heights)\n",
    "\n",
    "print(\"Maximum height:\", max_height)\n",
    "print(\"Minimum height:\", min_height)\n"
   ]
  },
  {
   "cell_type": "code",
   "execution_count": 6,
   "metadata": {},
   "outputs": [
    {
     "name": "stdout",
     "output_type": "stream",
     "text": [
      "set1 is a subset of set2\n"
     ]
    }
   ],
   "source": [
    "#Write a Python program to check if a given set is a subset of another set.\n",
    "\n",
    "def is_subset(set1, set2):\n",
    "    return set1.issubset(set2)\n",
    "\n",
    "if __name__ == \"__main__\":\n",
    "    \n",
    "    set1 = {3, 5, 6,}\n",
    "    set2 = {1, 2, 3, 5, 6}\n",
    "    \n",
    "    \n",
    "    if is_subset(set1, set2):\n",
    "        print(\"set1 is a subset of set2\")\n",
    "    else:\n",
    "        print(\"set1 is not a subset of set2\")\n"
   ]
  },
  {
   "cell_type": "code",
   "execution_count": 7,
   "metadata": {},
   "outputs": [
    {
     "name": "stdout",
     "output_type": "stream",
     "text": [
      "Combined Inventory:\n",
      "rose: 15\n",
      "yellow: 3\n",
      "black: 8\n",
      "grape: 6\n"
     ]
    }
   ],
   "source": [
    "#You are given two dictionaries representing the inventory of two stores. Write a Python program to merge the inv# Two dictionaries representing the inventories of two stores\n",
    "\n",
    "inventory1 = {'rose': 10, 'yellow': 5, 'black': 8}\n",
    "inventory2 = {'yellow': 3, 'grape': 6, 'rose': 15}\n",
    "\n",
    "\n",
    "combined_inventory = inventory1.copy()\n",
    "combined_inventory.update(inventory2)\n",
    "\n",
    "print(\"Combined Inventory:\")\n",
    "for item, quantity in combined_inventory.items():\n",
    "    print(f\"{item}: {quantity}\")\n",
    "\n",
    "\n"
   ]
  }
 ],
 "metadata": {
  "kernelspec": {
   "display_name": "Python 3",
   "language": "python",
   "name": "python3"
  },
  "language_info": {
   "codemirror_mode": {
    "name": "ipython",
    "version": 3
   },
   "file_extension": ".py",
   "mimetype": "text/x-python",
   "name": "python",
   "nbconvert_exporter": "python",
   "pygments_lexer": "ipython3",
   "version": "3.12.3"
  }
 },
 "nbformat": 4,
 "nbformat_minor": 2
}
